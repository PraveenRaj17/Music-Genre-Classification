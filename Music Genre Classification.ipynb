{
 "cells": [
  {
   "cell_type": "code",
   "execution_count": 27,
   "id": "46077d1a",
   "metadata": {},
   "outputs": [],
   "source": [
    "import numpy as np\n",
    "import seaborn as sns\n",
    "import pandas as pd\n",
    "import matplotlib.pyplot as plt\n",
    "import librosa\n",
    "import librosa.display as dis\n",
    "from scipy.io import wavfile\n",
    "from scipy import stats\n",
    "from sklearn import preprocessing\n",
    "from sklearn.model_selection import train_test_split\n",
    "from sklearn.ensemble import RandomForestClassifier\n",
    "from sklearn.datasets import make_classification\n",
    "from sklearn.metrics import accuracy_score\n",
    "from sklearn.svm import SVC\n",
    "from sklearn.neighbors import KNeighborsClassifier\n",
    "from sklearn.metrics import classification_report\n",
    "from sklearn.metrics import confusion_matrix\n",
    "from sklearn.metrics import ConfusionMatrixDisplay\n",
    "from sklearn.naive_bayes import GaussianNB\n",
    "from xgboost import XGBClassifier\n",
    "import os"
   ]
  },
  {
   "cell_type": "markdown",
   "id": "4cf6d29f",
   "metadata": {},
   "source": [
    "### Input data"
   ]
  },
  {
   "cell_type": "code",
   "execution_count": 28,
   "id": "be3f28d0",
   "metadata": {},
   "outputs": [],
   "source": [
    "cwd = os.getcwd() # Get the current working directory\n",
    "#print(cwd)\n",
    "pathTo3SecFeatures = '/Input/Data/features_3_sec.csv'\n",
    "input_data = pd.read_csv(cwd+pathTo3SecFeatures)"
   ]
  },
  {
   "cell_type": "code",
   "execution_count": 29,
   "id": "02495d21",
   "metadata": {},
   "outputs": [
    {
     "data": {
      "text/plain": [
       "Index(['chroma_stft_mean', 'chroma_stft_var', 'rms_mean', 'rms_var',\n",
       "       'spectral_centroid_mean', 'spectral_centroid_var',\n",
       "       'spectral_bandwidth_mean', 'spectral_bandwidth_var', 'rolloff_mean',\n",
       "       'rolloff_var', 'zero_crossing_rate_mean', 'zero_crossing_rate_var',\n",
       "       'harmony_mean', 'harmony_var', 'perceptr_mean', 'perceptr_var', 'tempo',\n",
       "       'mfcc1_mean', 'mfcc1_var', 'mfcc2_mean', 'mfcc2_var', 'mfcc3_mean',\n",
       "       'mfcc3_var', 'mfcc4_mean', 'mfcc4_var', 'mfcc5_mean', 'mfcc5_var',\n",
       "       'mfcc6_mean', 'mfcc6_var', 'mfcc7_mean', 'mfcc7_var', 'mfcc8_mean',\n",
       "       'mfcc8_var', 'mfcc9_mean', 'mfcc9_var', 'mfcc10_mean', 'mfcc10_var',\n",
       "       'mfcc11_mean', 'mfcc11_var', 'mfcc12_mean', 'mfcc12_var', 'mfcc13_mean',\n",
       "       'mfcc13_var', 'mfcc14_mean', 'mfcc14_var', 'mfcc15_mean', 'mfcc15_var',\n",
       "       'mfcc16_mean', 'mfcc16_var', 'mfcc17_mean', 'mfcc17_var', 'mfcc18_mean',\n",
       "       'mfcc18_var', 'mfcc19_mean', 'mfcc19_var', 'mfcc20_mean', 'mfcc20_var'],\n",
       "      dtype='object')"
      ]
     },
     "execution_count": 29,
     "metadata": {},
     "output_type": "execute_result"
    }
   ],
   "source": [
    "# List of features:\n",
    "input_data.columns[2:59]"
   ]
  },
  {
   "cell_type": "markdown",
   "id": "ad056cea",
   "metadata": {},
   "source": [
    "### Exploratory data analysis"
   ]
  },
  {
   "cell_type": "markdown",
   "id": "ebd34306",
   "metadata": {},
   "source": [
    "- Descrptive statistics"
   ]
  },
  {
   "cell_type": "code",
   "execution_count": 30,
   "id": "0df48d19",
   "metadata": {},
   "outputs": [
    {
     "data": {
      "text/html": [
       "<div>\n",
       "<style scoped>\n",
       "    .dataframe tbody tr th:only-of-type {\n",
       "        vertical-align: middle;\n",
       "    }\n",
       "\n",
       "    .dataframe tbody tr th {\n",
       "        vertical-align: top;\n",
       "    }\n",
       "\n",
       "    .dataframe thead th {\n",
       "        text-align: right;\n",
       "    }\n",
       "</style>\n",
       "<table border=\"1\" class=\"dataframe\">\n",
       "  <thead>\n",
       "    <tr style=\"text-align: right;\">\n",
       "      <th></th>\n",
       "      <th>length</th>\n",
       "      <th>chroma_stft_mean</th>\n",
       "      <th>chroma_stft_var</th>\n",
       "      <th>rms_mean</th>\n",
       "      <th>rms_var</th>\n",
       "      <th>spectral_centroid_mean</th>\n",
       "      <th>spectral_centroid_var</th>\n",
       "      <th>spectral_bandwidth_mean</th>\n",
       "      <th>spectral_bandwidth_var</th>\n",
       "      <th>rolloff_mean</th>\n",
       "      <th>...</th>\n",
       "      <th>mfcc16_mean</th>\n",
       "      <th>mfcc16_var</th>\n",
       "      <th>mfcc17_mean</th>\n",
       "      <th>mfcc17_var</th>\n",
       "      <th>mfcc18_mean</th>\n",
       "      <th>mfcc18_var</th>\n",
       "      <th>mfcc19_mean</th>\n",
       "      <th>mfcc19_var</th>\n",
       "      <th>mfcc20_mean</th>\n",
       "      <th>mfcc20_var</th>\n",
       "    </tr>\n",
       "  </thead>\n",
       "  <tbody>\n",
       "    <tr>\n",
       "      <th>count</th>\n",
       "      <td>9990.0</td>\n",
       "      <td>9990.000000</td>\n",
       "      <td>9990.000000</td>\n",
       "      <td>9990.000000</td>\n",
       "      <td>9.990000e+03</td>\n",
       "      <td>9990.000000</td>\n",
       "      <td>9.990000e+03</td>\n",
       "      <td>9990.000000</td>\n",
       "      <td>9.990000e+03</td>\n",
       "      <td>9990.000000</td>\n",
       "      <td>...</td>\n",
       "      <td>9990.000000</td>\n",
       "      <td>9990.000000</td>\n",
       "      <td>9990.000000</td>\n",
       "      <td>9990.000000</td>\n",
       "      <td>9990.000000</td>\n",
       "      <td>9990.000000</td>\n",
       "      <td>9990.000000</td>\n",
       "      <td>9990.000000</td>\n",
       "      <td>9990.000000</td>\n",
       "      <td>9990.000000</td>\n",
       "    </tr>\n",
       "    <tr>\n",
       "      <th>mean</th>\n",
       "      <td>66149.0</td>\n",
       "      <td>0.379534</td>\n",
       "      <td>0.084876</td>\n",
       "      <td>0.130859</td>\n",
       "      <td>2.676388e-03</td>\n",
       "      <td>2199.219431</td>\n",
       "      <td>4.166727e+05</td>\n",
       "      <td>2241.385959</td>\n",
       "      <td>1.182711e+05</td>\n",
       "      <td>4566.076592</td>\n",
       "      <td>...</td>\n",
       "      <td>1.448240</td>\n",
       "      <td>49.988755</td>\n",
       "      <td>-4.198706</td>\n",
       "      <td>51.962753</td>\n",
       "      <td>0.739943</td>\n",
       "      <td>52.488851</td>\n",
       "      <td>-2.497306</td>\n",
       "      <td>54.973829</td>\n",
       "      <td>-0.917584</td>\n",
       "      <td>57.322614</td>\n",
       "    </tr>\n",
       "    <tr>\n",
       "      <th>std</th>\n",
       "      <td>0.0</td>\n",
       "      <td>0.090466</td>\n",
       "      <td>0.009637</td>\n",
       "      <td>0.068545</td>\n",
       "      <td>3.585628e-03</td>\n",
       "      <td>751.860611</td>\n",
       "      <td>4.349644e+05</td>\n",
       "      <td>543.854449</td>\n",
       "      <td>1.013505e+05</td>\n",
       "      <td>1642.065335</td>\n",
       "      <td>...</td>\n",
       "      <td>5.735149</td>\n",
       "      <td>34.442816</td>\n",
       "      <td>5.677379</td>\n",
       "      <td>36.400669</td>\n",
       "      <td>5.181313</td>\n",
       "      <td>38.177120</td>\n",
       "      <td>5.111799</td>\n",
       "      <td>41.585677</td>\n",
       "      <td>5.253243</td>\n",
       "      <td>46.444212</td>\n",
       "    </tr>\n",
       "    <tr>\n",
       "      <th>min</th>\n",
       "      <td>66149.0</td>\n",
       "      <td>0.107108</td>\n",
       "      <td>0.015345</td>\n",
       "      <td>0.000953</td>\n",
       "      <td>4.379535e-08</td>\n",
       "      <td>472.741636</td>\n",
       "      <td>8.118813e+02</td>\n",
       "      <td>499.162910</td>\n",
       "      <td>1.183520e+03</td>\n",
       "      <td>658.336276</td>\n",
       "      <td>...</td>\n",
       "      <td>-26.850016</td>\n",
       "      <td>1.325786</td>\n",
       "      <td>-27.809795</td>\n",
       "      <td>1.624544</td>\n",
       "      <td>-20.733809</td>\n",
       "      <td>3.437439</td>\n",
       "      <td>-27.448456</td>\n",
       "      <td>3.065302</td>\n",
       "      <td>-35.640659</td>\n",
       "      <td>0.282131</td>\n",
       "    </tr>\n",
       "    <tr>\n",
       "      <th>25%</th>\n",
       "      <td>66149.0</td>\n",
       "      <td>0.315698</td>\n",
       "      <td>0.079833</td>\n",
       "      <td>0.083782</td>\n",
       "      <td>6.145900e-04</td>\n",
       "      <td>1630.680158</td>\n",
       "      <td>1.231961e+05</td>\n",
       "      <td>1887.455790</td>\n",
       "      <td>4.876553e+04</td>\n",
       "      <td>3378.311110</td>\n",
       "      <td>...</td>\n",
       "      <td>-2.227478</td>\n",
       "      <td>29.584894</td>\n",
       "      <td>-7.951722</td>\n",
       "      <td>29.863448</td>\n",
       "      <td>-2.516638</td>\n",
       "      <td>29.636197</td>\n",
       "      <td>-5.734123</td>\n",
       "      <td>30.496412</td>\n",
       "      <td>-4.004475</td>\n",
       "      <td>30.011365</td>\n",
       "    </tr>\n",
       "    <tr>\n",
       "      <th>50%</th>\n",
       "      <td>66149.0</td>\n",
       "      <td>0.384741</td>\n",
       "      <td>0.085108</td>\n",
       "      <td>0.121253</td>\n",
       "      <td>1.491318e-03</td>\n",
       "      <td>2208.628236</td>\n",
       "      <td>2.650692e+05</td>\n",
       "      <td>2230.575595</td>\n",
       "      <td>8.996072e+04</td>\n",
       "      <td>4631.377892</td>\n",
       "      <td>...</td>\n",
       "      <td>1.461623</td>\n",
       "      <td>41.702393</td>\n",
       "      <td>-4.443021</td>\n",
       "      <td>42.393583</td>\n",
       "      <td>0.733772</td>\n",
       "      <td>41.831377</td>\n",
       "      <td>-2.702366</td>\n",
       "      <td>43.435253</td>\n",
       "      <td>-1.030939</td>\n",
       "      <td>44.332155</td>\n",
       "    </tr>\n",
       "    <tr>\n",
       "      <th>75%</th>\n",
       "      <td>66149.0</td>\n",
       "      <td>0.442443</td>\n",
       "      <td>0.091092</td>\n",
       "      <td>0.176328</td>\n",
       "      <td>3.130862e-03</td>\n",
       "      <td>2712.581884</td>\n",
       "      <td>5.624152e+05</td>\n",
       "      <td>2588.340505</td>\n",
       "      <td>1.585674e+05</td>\n",
       "      <td>5591.634521</td>\n",
       "      <td>...</td>\n",
       "      <td>5.149752</td>\n",
       "      <td>59.274619</td>\n",
       "      <td>-0.726945</td>\n",
       "      <td>61.676964</td>\n",
       "      <td>3.888734</td>\n",
       "      <td>62.033906</td>\n",
       "      <td>0.514246</td>\n",
       "      <td>65.328602</td>\n",
       "      <td>2.216603</td>\n",
       "      <td>68.210421</td>\n",
       "    </tr>\n",
       "    <tr>\n",
       "      <th>max</th>\n",
       "      <td>66149.0</td>\n",
       "      <td>0.749481</td>\n",
       "      <td>0.120964</td>\n",
       "      <td>0.442567</td>\n",
       "      <td>3.261522e-02</td>\n",
       "      <td>5432.534406</td>\n",
       "      <td>4.794119e+06</td>\n",
       "      <td>3708.147554</td>\n",
       "      <td>1.235143e+06</td>\n",
       "      <td>9487.446477</td>\n",
       "      <td>...</td>\n",
       "      <td>39.144405</td>\n",
       "      <td>683.932556</td>\n",
       "      <td>34.048843</td>\n",
       "      <td>529.363342</td>\n",
       "      <td>36.970322</td>\n",
       "      <td>629.729797</td>\n",
       "      <td>31.365425</td>\n",
       "      <td>1143.230591</td>\n",
       "      <td>34.212101</td>\n",
       "      <td>910.473206</td>\n",
       "    </tr>\n",
       "  </tbody>\n",
       "</table>\n",
       "<p>8 rows × 58 columns</p>\n",
       "</div>"
      ],
      "text/plain": [
       "        length  chroma_stft_mean  chroma_stft_var     rms_mean       rms_var  \\\n",
       "count   9990.0       9990.000000      9990.000000  9990.000000  9.990000e+03   \n",
       "mean   66149.0          0.379534         0.084876     0.130859  2.676388e-03   \n",
       "std        0.0          0.090466         0.009637     0.068545  3.585628e-03   \n",
       "min    66149.0          0.107108         0.015345     0.000953  4.379535e-08   \n",
       "25%    66149.0          0.315698         0.079833     0.083782  6.145900e-04   \n",
       "50%    66149.0          0.384741         0.085108     0.121253  1.491318e-03   \n",
       "75%    66149.0          0.442443         0.091092     0.176328  3.130862e-03   \n",
       "max    66149.0          0.749481         0.120964     0.442567  3.261522e-02   \n",
       "\n",
       "       spectral_centroid_mean  spectral_centroid_var  spectral_bandwidth_mean  \\\n",
       "count             9990.000000           9.990000e+03              9990.000000   \n",
       "mean              2199.219431           4.166727e+05              2241.385959   \n",
       "std                751.860611           4.349644e+05               543.854449   \n",
       "min                472.741636           8.118813e+02               499.162910   \n",
       "25%               1630.680158           1.231961e+05              1887.455790   \n",
       "50%               2208.628236           2.650692e+05              2230.575595   \n",
       "75%               2712.581884           5.624152e+05              2588.340505   \n",
       "max               5432.534406           4.794119e+06              3708.147554   \n",
       "\n",
       "       spectral_bandwidth_var  rolloff_mean  ...  mfcc16_mean   mfcc16_var  \\\n",
       "count            9.990000e+03   9990.000000  ...  9990.000000  9990.000000   \n",
       "mean             1.182711e+05   4566.076592  ...     1.448240    49.988755   \n",
       "std              1.013505e+05   1642.065335  ...     5.735149    34.442816   \n",
       "min              1.183520e+03    658.336276  ...   -26.850016     1.325786   \n",
       "25%              4.876553e+04   3378.311110  ...    -2.227478    29.584894   \n",
       "50%              8.996072e+04   4631.377892  ...     1.461623    41.702393   \n",
       "75%              1.585674e+05   5591.634521  ...     5.149752    59.274619   \n",
       "max              1.235143e+06   9487.446477  ...    39.144405   683.932556   \n",
       "\n",
       "       mfcc17_mean   mfcc17_var  mfcc18_mean   mfcc18_var  mfcc19_mean  \\\n",
       "count  9990.000000  9990.000000  9990.000000  9990.000000  9990.000000   \n",
       "mean     -4.198706    51.962753     0.739943    52.488851    -2.497306   \n",
       "std       5.677379    36.400669     5.181313    38.177120     5.111799   \n",
       "min     -27.809795     1.624544   -20.733809     3.437439   -27.448456   \n",
       "25%      -7.951722    29.863448    -2.516638    29.636197    -5.734123   \n",
       "50%      -4.443021    42.393583     0.733772    41.831377    -2.702366   \n",
       "75%      -0.726945    61.676964     3.888734    62.033906     0.514246   \n",
       "max      34.048843   529.363342    36.970322   629.729797    31.365425   \n",
       "\n",
       "        mfcc19_var  mfcc20_mean   mfcc20_var  \n",
       "count  9990.000000  9990.000000  9990.000000  \n",
       "mean     54.973829    -0.917584    57.322614  \n",
       "std      41.585677     5.253243    46.444212  \n",
       "min       3.065302   -35.640659     0.282131  \n",
       "25%      30.496412    -4.004475    30.011365  \n",
       "50%      43.435253    -1.030939    44.332155  \n",
       "75%      65.328602     2.216603    68.210421  \n",
       "max    1143.230591    34.212101   910.473206  \n",
       "\n",
       "[8 rows x 58 columns]"
      ]
     },
     "execution_count": 30,
     "metadata": {},
     "output_type": "execute_result"
    }
   ],
   "source": [
    "input_data.describe()"
   ]
  },
  {
   "cell_type": "markdown",
   "id": "341a5faf",
   "metadata": {},
   "source": [
    "- Correlation computation"
   ]
  },
  {
   "cell_type": "code",
   "execution_count": 31,
   "id": "922e321d",
   "metadata": {},
   "outputs": [
    {
     "data": {
      "text/plain": [
       "-0.61230956073804"
      ]
     },
     "execution_count": 31,
     "metadata": {},
     "output_type": "execute_result"
    }
   ],
   "source": [
    "# We consider the features 'mfcc1_mean' and 'mfcc2_mean'\n",
    "input_data['mfcc1_mean'].corr(input_data['mfcc2_mean'])"
   ]
  },
  {
   "cell_type": "markdown",
   "id": "be6b336e",
   "metadata": {},
   "source": [
    "- Null values inspection"
   ]
  },
  {
   "cell_type": "code",
   "execution_count": 32,
   "id": "950c6ed9",
   "metadata": {},
   "outputs": [
    {
     "data": {
      "text/plain": [
       "filename                   0\n",
       "length                     0\n",
       "chroma_stft_mean           0\n",
       "chroma_stft_var            0\n",
       "rms_mean                   0\n",
       "rms_var                    0\n",
       "spectral_centroid_mean     0\n",
       "spectral_centroid_var      0\n",
       "spectral_bandwidth_mean    0\n",
       "spectral_bandwidth_var     0\n",
       "rolloff_mean               0\n",
       "rolloff_var                0\n",
       "zero_crossing_rate_mean    0\n",
       "zero_crossing_rate_var     0\n",
       "harmony_mean               0\n",
       "harmony_var                0\n",
       "perceptr_mean              0\n",
       "perceptr_var               0\n",
       "tempo                      0\n",
       "mfcc1_mean                 0\n",
       "mfcc1_var                  0\n",
       "mfcc2_mean                 0\n",
       "mfcc2_var                  0\n",
       "mfcc3_mean                 0\n",
       "mfcc3_var                  0\n",
       "mfcc4_mean                 0\n",
       "mfcc4_var                  0\n",
       "mfcc5_mean                 0\n",
       "mfcc5_var                  0\n",
       "mfcc6_mean                 0\n",
       "mfcc6_var                  0\n",
       "mfcc7_mean                 0\n",
       "mfcc7_var                  0\n",
       "mfcc8_mean                 0\n",
       "mfcc8_var                  0\n",
       "mfcc9_mean                 0\n",
       "mfcc9_var                  0\n",
       "mfcc10_mean                0\n",
       "mfcc10_var                 0\n",
       "mfcc11_mean                0\n",
       "mfcc11_var                 0\n",
       "mfcc12_mean                0\n",
       "mfcc12_var                 0\n",
       "mfcc13_mean                0\n",
       "mfcc13_var                 0\n",
       "mfcc14_mean                0\n",
       "mfcc14_var                 0\n",
       "mfcc15_mean                0\n",
       "mfcc15_var                 0\n",
       "mfcc16_mean                0\n",
       "mfcc16_var                 0\n",
       "mfcc17_mean                0\n",
       "mfcc17_var                 0\n",
       "mfcc18_mean                0\n",
       "mfcc18_var                 0\n",
       "mfcc19_mean                0\n",
       "mfcc19_var                 0\n",
       "mfcc20_mean                0\n",
       "mfcc20_var                 0\n",
       "label                      0\n",
       "dtype: int64"
      ]
     },
     "execution_count": 32,
     "metadata": {},
     "output_type": "execute_result"
    }
   ],
   "source": [
    "input_data.isnull().sum()"
   ]
  },
  {
   "cell_type": "markdown",
   "id": "c64fbce9",
   "metadata": {},
   "source": [
    "### Data preprocessing"
   ]
  },
  {
   "cell_type": "code",
   "execution_count": 33,
   "id": "d03a4c8f",
   "metadata": {},
   "outputs": [],
   "source": [
    "# Remove duplicate rows\n",
    "input_data = input_data.drop_duplicates()"
   ]
  },
  {
   "cell_type": "code",
   "execution_count": 34,
   "id": "56439160",
   "metadata": {
    "scrolled": true
   },
   "outputs": [
    {
     "data": {
      "text/plain": [
       "<AxesSubplot:xlabel='chroma_stft_mean'>"
      ]
     },
     "execution_count": 34,
     "metadata": {},
     "output_type": "execute_result"
    },
    {
     "data": {
      "image/png": "[encoded data removed]",
      "text/plain": [
       "<Figure size 432x288 with 1 Axes>"
      ]
     },
     "metadata": {
      "needs_background": "light"
     },
     "output_type": "display_data"
    }
   ],
   "source": [
    "# Visualizing outliers using boxplot\n",
    "# Example: chroma_stft_mean\n",
    "sns.boxplot(x=input_data['chroma_stft_mean'])"
   ]
  },
  {
   "cell_type": "code",
   "execution_count": 35,
   "id": "a5a6a56e",
   "metadata": {},
   "outputs": [],
   "source": [
    "# Detect outliers and replace them with lower/upper whisker\n",
    "# Method used: Interquartile range\n",
    "for col_name in input_data.select_dtypes(exclude=['object']).columns:\n",
    "    Q1 = input_data[col_name].quantile(0.25)\n",
    "    Q3 = input_data[col_name].quantile(0.75)\n",
    "    IQR = Q3 - Q1\n",
    "    whisker_width = 1.5\n",
    "    lower_whisker = Q1 -(whisker_width*IQR)\n",
    "    upper_whisker = Q3 +(whisker_width*IQR)\n",
    "    #Replacing with upper whisker for upper values and lower whisker for lower values\n",
    "    count = 0\n",
    "    for val in input_data[col_name].values:\n",
    "        if val>upper_whisker or val<lower_whisker:\n",
    "            count += 1\n",
    "    input_data[col_name]=np.where(input_data[col_name]>upper_whisker,upper_whisker,np.where(input_data[col_name]<lower_whisker,lower_whisker,input_data[col_name]))"
   ]
  },
  {
   "cell_type": "code",
   "execution_count": 38,
   "id": "9c98c085",
   "metadata": {},
   "outputs": [],
   "source": [
    "input_data.to_csv('preprocessed_data_3_secs.csv')"
   ]
  },
  {
   "cell_type": "code",
   "execution_count": 39,
   "id": "6d271ff8",
   "metadata": {},
   "outputs": [],
   "source": [
    "pathTo3SecFeaturesPreprocessed = '/Input/Data/preprocessed_data_3_secs.csv'\n",
    "input_data = pd.read_csv(cwd+pathTo3SecFeaturesPreprocessed)"
   ]
  },
  {
   "cell_type": "markdown",
   "id": "5c055c0e",
   "metadata": {},
   "source": [
    "### Creating labels, Scaling data and Splitting training and testing data"
   ]
  },
  {
   "cell_type": "code",
   "execution_count": 40,
   "id": "4e33bafe",
   "metadata": {},
   "outputs": [
    {
     "data": {
      "text/plain": [
       "(9847, 61)"
      ]
     },
     "execution_count": 40,
     "metadata": {},
     "output_type": "execute_result"
    }
   ],
   "source": [
    "input_data.shape"
   ]
  },
  {
   "cell_type": "code",
   "execution_count": 41,
   "id": "e3d34968",
   "metadata": {},
   "outputs": [
    {
     "name": "stderr",
     "output_type": "stream",
     "text": [
      "<ipython-input-41-da64101ce2a5>:6: SettingWithCopyWarning: \n",
      "A value is trying to be set on a copy of a slice from a DataFrame.\n",
      "Try using .loc[row_indexer,col_indexer] = value instead\n",
      "\n",
      "See the caveats in the documentation: https://pandas.pydata.org/pandas-docs/stable/user_guide/indexing.html#returning-a-view-versus-a-copy\n",
      "  labels['categorical_label'] = le.transform(labels.label)\n"
     ]
    }
   ],
   "source": [
    "select_cols = input_data.iloc[:, 3:60]\n",
    "# Creating labels\n",
    "labels = input_data.iloc[:, [60]]\n",
    "le = preprocessing.LabelEncoder()\n",
    "le.fit(labels.label)\n",
    "labels['categorical_label'] = le.transform(labels.label)"
   ]
  },
  {
   "cell_type": "code",
   "execution_count": 42,
   "id": "ef2b160f",
   "metadata": {},
   "outputs": [],
   "source": [
    "# Scale data\n",
    "min_max_scaler = preprocessing.MinMaxScaler()\n",
    "np_scaled = min_max_scaler.fit_transform(select_cols)\n",
    "X_scaled = pd.DataFrame(np_scaled, columns = select_cols.columns)"
   ]
  },
  {
   "cell_type": "code",
   "execution_count": 43,
   "id": "437a30f8",
   "metadata": {},
   "outputs": [],
   "source": [
    "# Split into training and testing\n",
    "#select_cols = input_data.iloc[:, 3:60]\n",
    "X_train, X_test, y_train, y_test = train_test_split(select_cols, labels['categorical_label'], test_size=0.33)"
   ]
  },
  {
   "cell_type": "code",
   "execution_count": 44,
   "id": "4a93d289",
   "metadata": {},
   "outputs": [
    {
     "data": {
      "text/html": [
       "<div>\n",
       "<style scoped>\n",
       "    .dataframe tbody tr th:only-of-type {\n",
       "        vertical-align: middle;\n",
       "    }\n",
       "\n",
       "    .dataframe tbody tr th {\n",
       "        vertical-align: top;\n",
       "    }\n",
       "\n",
       "    .dataframe thead th {\n",
       "        text-align: right;\n",
       "    }\n",
       "</style>\n",
       "<table border=\"1\" class=\"dataframe\">\n",
       "  <thead>\n",
       "    <tr style=\"text-align: right;\">\n",
       "      <th></th>\n",
       "      <th>chroma_stft_mean</th>\n",
       "      <th>chroma_stft_var</th>\n",
       "      <th>rms_mean</th>\n",
       "      <th>rms_var</th>\n",
       "      <th>spectral_centroid_mean</th>\n",
       "      <th>spectral_centroid_var</th>\n",
       "      <th>spectral_bandwidth_mean</th>\n",
       "      <th>spectral_bandwidth_var</th>\n",
       "      <th>rolloff_mean</th>\n",
       "      <th>rolloff_var</th>\n",
       "      <th>...</th>\n",
       "      <th>mfcc16_mean</th>\n",
       "      <th>mfcc16_var</th>\n",
       "      <th>mfcc17_mean</th>\n",
       "      <th>mfcc17_var</th>\n",
       "      <th>mfcc18_mean</th>\n",
       "      <th>mfcc18_var</th>\n",
       "      <th>mfcc19_mean</th>\n",
       "      <th>mfcc19_var</th>\n",
       "      <th>mfcc20_mean</th>\n",
       "      <th>mfcc20_var</th>\n",
       "    </tr>\n",
       "  </thead>\n",
       "  <tbody>\n",
       "    <tr>\n",
       "      <th>0</th>\n",
       "      <td>0.335406</td>\n",
       "      <td>0.091048</td>\n",
       "      <td>0.130405</td>\n",
       "      <td>0.003521</td>\n",
       "      <td>1773.065032</td>\n",
       "      <td>167541.630869</td>\n",
       "      <td>1972.744388</td>\n",
       "      <td>117335.771563</td>\n",
       "      <td>3714.560359</td>\n",
       "      <td>1.080790e+06</td>\n",
       "      <td>...</td>\n",
       "      <td>-2.853603</td>\n",
       "      <td>39.687145</td>\n",
       "      <td>-3.241280</td>\n",
       "      <td>36.488243</td>\n",
       "      <td>0.722209</td>\n",
       "      <td>38.099152</td>\n",
       "      <td>-5.050335</td>\n",
       "      <td>33.618073</td>\n",
       "      <td>-0.243027</td>\n",
       "      <td>43.771767</td>\n",
       "    </tr>\n",
       "    <tr>\n",
       "      <th>1</th>\n",
       "      <td>0.343065</td>\n",
       "      <td>0.086147</td>\n",
       "      <td>0.112699</td>\n",
       "      <td>0.001450</td>\n",
       "      <td>1816.693777</td>\n",
       "      <td>90525.690866</td>\n",
       "      <td>2010.051501</td>\n",
       "      <td>65671.875673</td>\n",
       "      <td>3869.682242</td>\n",
       "      <td>6.722448e+05</td>\n",
       "      <td>...</td>\n",
       "      <td>4.074709</td>\n",
       "      <td>64.748276</td>\n",
       "      <td>-6.055294</td>\n",
       "      <td>40.677654</td>\n",
       "      <td>0.159015</td>\n",
       "      <td>51.264091</td>\n",
       "      <td>-2.837699</td>\n",
       "      <td>97.030830</td>\n",
       "      <td>5.784063</td>\n",
       "      <td>59.943081</td>\n",
       "    </tr>\n",
       "    <tr>\n",
       "      <th>2</th>\n",
       "      <td>0.346815</td>\n",
       "      <td>0.092243</td>\n",
       "      <td>0.132003</td>\n",
       "      <td>0.004620</td>\n",
       "      <td>1788.539719</td>\n",
       "      <td>111407.437613</td>\n",
       "      <td>2084.565132</td>\n",
       "      <td>75124.921716</td>\n",
       "      <td>3997.639160</td>\n",
       "      <td>7.907127e+05</td>\n",
       "      <td>...</td>\n",
       "      <td>4.806280</td>\n",
       "      <td>67.336563</td>\n",
       "      <td>-1.768610</td>\n",
       "      <td>28.348579</td>\n",
       "      <td>2.378768</td>\n",
       "      <td>45.717648</td>\n",
       "      <td>-1.938424</td>\n",
       "      <td>53.050835</td>\n",
       "      <td>2.517375</td>\n",
       "      <td>33.105122</td>\n",
       "    </tr>\n",
       "    <tr>\n",
       "      <th>3</th>\n",
       "      <td>0.363639</td>\n",
       "      <td>0.086856</td>\n",
       "      <td>0.132565</td>\n",
       "      <td>0.002448</td>\n",
       "      <td>1655.289045</td>\n",
       "      <td>111952.284517</td>\n",
       "      <td>1960.039988</td>\n",
       "      <td>82913.639269</td>\n",
       "      <td>3568.300218</td>\n",
       "      <td>9.216524e+05</td>\n",
       "      <td>...</td>\n",
       "      <td>-1.359111</td>\n",
       "      <td>47.739452</td>\n",
       "      <td>-3.841155</td>\n",
       "      <td>28.337118</td>\n",
       "      <td>1.218588</td>\n",
       "      <td>34.770935</td>\n",
       "      <td>-3.580352</td>\n",
       "      <td>50.836224</td>\n",
       "      <td>3.630866</td>\n",
       "      <td>32.023678</td>\n",
       "    </tr>\n",
       "    <tr>\n",
       "      <th>4</th>\n",
       "      <td>0.335579</td>\n",
       "      <td>0.088129</td>\n",
       "      <td>0.143289</td>\n",
       "      <td>0.001701</td>\n",
       "      <td>1630.656199</td>\n",
       "      <td>79667.267654</td>\n",
       "      <td>1948.503884</td>\n",
       "      <td>60204.020268</td>\n",
       "      <td>3469.992864</td>\n",
       "      <td>6.102111e+05</td>\n",
       "      <td>...</td>\n",
       "      <td>2.092937</td>\n",
       "      <td>30.336359</td>\n",
       "      <td>0.664582</td>\n",
       "      <td>45.880913</td>\n",
       "      <td>1.689446</td>\n",
       "      <td>51.363583</td>\n",
       "      <td>-3.392489</td>\n",
       "      <td>26.738789</td>\n",
       "      <td>0.536961</td>\n",
       "      <td>29.146694</td>\n",
       "    </tr>\n",
       "    <tr>\n",
       "      <th>...</th>\n",
       "      <td>...</td>\n",
       "      <td>...</td>\n",
       "      <td>...</td>\n",
       "      <td>...</td>\n",
       "      <td>...</td>\n",
       "      <td>...</td>\n",
       "      <td>...</td>\n",
       "      <td>...</td>\n",
       "      <td>...</td>\n",
       "      <td>...</td>\n",
       "      <td>...</td>\n",
       "      <td>...</td>\n",
       "      <td>...</td>\n",
       "      <td>...</td>\n",
       "      <td>...</td>\n",
       "      <td>...</td>\n",
       "      <td>...</td>\n",
       "      <td>...</td>\n",
       "      <td>...</td>\n",
       "      <td>...</td>\n",
       "      <td>...</td>\n",
       "    </tr>\n",
       "    <tr>\n",
       "      <th>9842</th>\n",
       "      <td>0.349126</td>\n",
       "      <td>0.080515</td>\n",
       "      <td>0.050019</td>\n",
       "      <td>0.000097</td>\n",
       "      <td>1499.083005</td>\n",
       "      <td>164266.886443</td>\n",
       "      <td>1718.707215</td>\n",
       "      <td>85931.574523</td>\n",
       "      <td>3015.559458</td>\n",
       "      <td>8.479527e+05</td>\n",
       "      <td>...</td>\n",
       "      <td>5.773784</td>\n",
       "      <td>42.485981</td>\n",
       "      <td>-9.094270</td>\n",
       "      <td>38.326839</td>\n",
       "      <td>-4.246976</td>\n",
       "      <td>31.049839</td>\n",
       "      <td>-5.625813</td>\n",
       "      <td>48.804092</td>\n",
       "      <td>1.818823</td>\n",
       "      <td>38.966969</td>\n",
       "    </tr>\n",
       "    <tr>\n",
       "      <th>9843</th>\n",
       "      <td>0.372564</td>\n",
       "      <td>0.082626</td>\n",
       "      <td>0.057897</td>\n",
       "      <td>0.000088</td>\n",
       "      <td>1847.965128</td>\n",
       "      <td>281054.935973</td>\n",
       "      <td>1906.468492</td>\n",
       "      <td>99727.037054</td>\n",
       "      <td>3746.694524</td>\n",
       "      <td>1.170890e+06</td>\n",
       "      <td>...</td>\n",
       "      <td>2.074155</td>\n",
       "      <td>32.415203</td>\n",
       "      <td>-12.375726</td>\n",
       "      <td>66.418587</td>\n",
       "      <td>-3.081278</td>\n",
       "      <td>54.414265</td>\n",
       "      <td>-11.960546</td>\n",
       "      <td>63.452255</td>\n",
       "      <td>0.428857</td>\n",
       "      <td>18.697033</td>\n",
       "    </tr>\n",
       "    <tr>\n",
       "      <th>9844</th>\n",
       "      <td>0.347481</td>\n",
       "      <td>0.089019</td>\n",
       "      <td>0.052403</td>\n",
       "      <td>0.000701</td>\n",
       "      <td>1346.157659</td>\n",
       "      <td>662956.246325</td>\n",
       "      <td>1561.859087</td>\n",
       "      <td>138762.841945</td>\n",
       "      <td>2442.362154</td>\n",
       "      <td>2.602871e+06</td>\n",
       "      <td>...</td>\n",
       "      <td>-1.005473</td>\n",
       "      <td>78.228149</td>\n",
       "      <td>-2.524483</td>\n",
       "      <td>21.778994</td>\n",
       "      <td>4.809936</td>\n",
       "      <td>25.980829</td>\n",
       "      <td>1.775686</td>\n",
       "      <td>48.582378</td>\n",
       "      <td>-0.299545</td>\n",
       "      <td>41.586990</td>\n",
       "    </tr>\n",
       "    <tr>\n",
       "      <th>9845</th>\n",
       "      <td>0.387527</td>\n",
       "      <td>0.084815</td>\n",
       "      <td>0.066430</td>\n",
       "      <td>0.000320</td>\n",
       "      <td>2084.515327</td>\n",
       "      <td>203891.039161</td>\n",
       "      <td>2018.366254</td>\n",
       "      <td>22860.992562</td>\n",
       "      <td>4313.266226</td>\n",
       "      <td>4.968878e+05</td>\n",
       "      <td>...</td>\n",
       "      <td>4.123402</td>\n",
       "      <td>28.323744</td>\n",
       "      <td>-5.363541</td>\n",
       "      <td>17.209942</td>\n",
       "      <td>6.462601</td>\n",
       "      <td>21.442928</td>\n",
       "      <td>2.354765</td>\n",
       "      <td>24.843613</td>\n",
       "      <td>0.675824</td>\n",
       "      <td>12.787750</td>\n",
       "    </tr>\n",
       "    <tr>\n",
       "      <th>9846</th>\n",
       "      <td>0.369293</td>\n",
       "      <td>0.086759</td>\n",
       "      <td>0.050524</td>\n",
       "      <td>0.000067</td>\n",
       "      <td>1634.330126</td>\n",
       "      <td>411429.169769</td>\n",
       "      <td>1867.422378</td>\n",
       "      <td>119722.211518</td>\n",
       "      <td>3462.042142</td>\n",
       "      <td>1.517016e+06</td>\n",
       "      <td>...</td>\n",
       "      <td>1.342274</td>\n",
       "      <td>38.801735</td>\n",
       "      <td>-11.598399</td>\n",
       "      <td>58.983097</td>\n",
       "      <td>-0.178517</td>\n",
       "      <td>55.761299</td>\n",
       "      <td>-6.903252</td>\n",
       "      <td>39.485901</td>\n",
       "      <td>-3.412534</td>\n",
       "      <td>31.727489</td>\n",
       "    </tr>\n",
       "  </tbody>\n",
       "</table>\n",
       "<p>9847 rows × 57 columns</p>\n",
       "</div>"
      ],
      "text/plain": [
       "      chroma_stft_mean  chroma_stft_var  rms_mean   rms_var  \\\n",
       "0             0.335406         0.091048  0.130405  0.003521   \n",
       "1             0.343065         0.086147  0.112699  0.001450   \n",
       "2             0.346815         0.092243  0.132003  0.004620   \n",
       "3             0.363639         0.086856  0.132565  0.002448   \n",
       "4             0.335579         0.088129  0.143289  0.001701   \n",
       "...                ...              ...       ...       ...   \n",
       "9842          0.349126         0.080515  0.050019  0.000097   \n",
       "9843          0.372564         0.082626  0.057897  0.000088   \n",
       "9844          0.347481         0.089019  0.052403  0.000701   \n",
       "9845          0.387527         0.084815  0.066430  0.000320   \n",
       "9846          0.369293         0.086759  0.050524  0.000067   \n",
       "\n",
       "      spectral_centroid_mean  spectral_centroid_var  spectral_bandwidth_mean  \\\n",
       "0                1773.065032          167541.630869              1972.744388   \n",
       "1                1816.693777           90525.690866              2010.051501   \n",
       "2                1788.539719          111407.437613              2084.565132   \n",
       "3                1655.289045          111952.284517              1960.039988   \n",
       "4                1630.656199           79667.267654              1948.503884   \n",
       "...                      ...                    ...                      ...   \n",
       "9842             1499.083005          164266.886443              1718.707215   \n",
       "9843             1847.965128          281054.935973              1906.468492   \n",
       "9844             1346.157659          662956.246325              1561.859087   \n",
       "9845             2084.515327          203891.039161              2018.366254   \n",
       "9846             1634.330126          411429.169769              1867.422378   \n",
       "\n",
       "      spectral_bandwidth_var  rolloff_mean   rolloff_var  ...  mfcc16_mean  \\\n",
       "0              117335.771563   3714.560359  1.080790e+06  ...    -2.853603   \n",
       "1               65671.875673   3869.682242  6.722448e+05  ...     4.074709   \n",
       "2               75124.921716   3997.639160  7.907127e+05  ...     4.806280   \n",
       "3               82913.639269   3568.300218  9.216524e+05  ...    -1.359111   \n",
       "4               60204.020268   3469.992864  6.102111e+05  ...     2.092937   \n",
       "...                      ...           ...           ...  ...          ...   \n",
       "9842            85931.574523   3015.559458  8.479527e+05  ...     5.773784   \n",
       "9843            99727.037054   3746.694524  1.170890e+06  ...     2.074155   \n",
       "9844           138762.841945   2442.362154  2.602871e+06  ...    -1.005473   \n",
       "9845            22860.992562   4313.266226  4.968878e+05  ...     4.123402   \n",
       "9846           119722.211518   3462.042142  1.517016e+06  ...     1.342274   \n",
       "\n",
       "      mfcc16_var  mfcc17_mean  mfcc17_var  mfcc18_mean  mfcc18_var  \\\n",
       "0      39.687145    -3.241280   36.488243     0.722209   38.099152   \n",
       "1      64.748276    -6.055294   40.677654     0.159015   51.264091   \n",
       "2      67.336563    -1.768610   28.348579     2.378768   45.717648   \n",
       "3      47.739452    -3.841155   28.337118     1.218588   34.770935   \n",
       "4      30.336359     0.664582   45.880913     1.689446   51.363583   \n",
       "...          ...          ...         ...          ...         ...   \n",
       "9842   42.485981    -9.094270   38.326839    -4.246976   31.049839   \n",
       "9843   32.415203   -12.375726   66.418587    -3.081278   54.414265   \n",
       "9844   78.228149    -2.524483   21.778994     4.809936   25.980829   \n",
       "9845   28.323744    -5.363541   17.209942     6.462601   21.442928   \n",
       "9846   38.801735   -11.598399   58.983097    -0.178517   55.761299   \n",
       "\n",
       "      mfcc19_mean  mfcc19_var  mfcc20_mean  mfcc20_var  \n",
       "0       -5.050335   33.618073    -0.243027   43.771767  \n",
       "1       -2.837699   97.030830     5.784063   59.943081  \n",
       "2       -1.938424   53.050835     2.517375   33.105122  \n",
       "3       -3.580352   50.836224     3.630866   32.023678  \n",
       "4       -3.392489   26.738789     0.536961   29.146694  \n",
       "...           ...         ...          ...         ...  \n",
       "9842    -5.625813   48.804092     1.818823   38.966969  \n",
       "9843   -11.960546   63.452255     0.428857   18.697033  \n",
       "9844     1.775686   48.582378    -0.299545   41.586990  \n",
       "9845     2.354765   24.843613     0.675824   12.787750  \n",
       "9846    -6.903252   39.485901    -3.412534   31.727489  \n",
       "\n",
       "[9847 rows x 57 columns]"
      ]
     },
     "execution_count": 44,
     "metadata": {},
     "output_type": "execute_result"
    }
   ],
   "source": [
    "select_cols"
   ]
  },
  {
   "cell_type": "markdown",
   "id": "dbe7769c",
   "metadata": {},
   "source": [
    "### Establishing baseline performance"
   ]
  },
  {
   "cell_type": "code",
   "execution_count": 45,
   "id": "973f5584",
   "metadata": {},
   "outputs": [
    {
     "name": "stdout",
     "output_type": "stream",
     "text": [
      "Training accuracy: 0.4342883128694861\n",
      "Testing accuracy: 0.43446153846153845\n",
      "              precision    recall  f1-score   support\n",
      "\n",
      "       blues       0.34      0.52      0.41       318\n",
      "   classical       0.64      0.93      0.76       324\n",
      "     country       0.47      0.08      0.14       339\n",
      "       disco       0.36      0.09      0.14       334\n",
      "      hiphop       0.60      0.25      0.36       331\n",
      "        jazz       0.49      0.35      0.41       324\n",
      "       metal       0.38      0.91      0.54       311\n",
      "         pop       0.34      0.92      0.50       314\n",
      "      reggae       0.59      0.37      0.46       324\n",
      "        rock       0.00      0.00      0.00       331\n",
      "\n",
      "    accuracy                           0.43      3250\n",
      "   macro avg       0.42      0.44      0.37      3250\n",
      "weighted avg       0.42      0.43      0.37      3250\n",
      "\n"
     ]
    },
    {
     "data": {
      "image/png": "[encoded data removed]",
      "text/plain": [
       "<Figure size 432x288 with 2 Axes>"
      ]
     },
     "metadata": {
      "needs_background": "light"
     },
     "output_type": "display_data"
    }
   ],
   "source": [
    "# Random forest classifier\n",
    "clf = RandomForestClassifier(max_depth=2, random_state=0)\n",
    "clf.fit(X_train, y_train)\n",
    "predict_y = clf.predict(X_test)\n",
    "\n",
    "\n",
    "y_pred_train = clf.predict(X_train)\n",
    "\n",
    "print(f'Training accuracy: {accuracy_score(y_train,y_pred_train)}')\n",
    "print(f'Testing accuracy: {accuracy_score(y_test,predict_y)}')\n",
    "\n",
    "print(classification_report(y_test, predict_y, target_names=labels.label.unique()))\n",
    "ConfusionMatrixDisplay.from_predictions(y_test, predict_y)\n",
    "plt.show()"
   ]
  },
  {
   "cell_type": "code",
   "execution_count": 46,
   "id": "1a7abb11",
   "metadata": {},
   "outputs": [
    {
     "name": "stdout",
     "output_type": "stream",
     "text": [
      "Training accuracy: 0.483856298317417\n",
      "Testing accuracy: 0.27292307692307693\n",
      "              precision    recall  f1-score   support\n",
      "\n",
      "       blues       0.17      0.26      0.21       318\n",
      "   classical       0.58      0.68      0.63       324\n",
      "     country       0.21      0.24      0.23       339\n",
      "       disco       0.17      0.16      0.17       334\n",
      "      hiphop       0.21      0.19      0.20       331\n",
      "        jazz       0.26      0.23      0.24       324\n",
      "       metal       0.31      0.29      0.30       311\n",
      "         pop       0.35      0.36      0.36       314\n",
      "      reggae       0.26      0.22      0.24       324\n",
      "        rock       0.18      0.10      0.13       331\n",
      "\n",
      "    accuracy                           0.27      3250\n",
      "   macro avg       0.27      0.27      0.27      3250\n",
      "weighted avg       0.27      0.27      0.27      3250\n",
      "\n"
     ]
    },
    {
     "data": {
      "image/png": "[encoded data removed]",
      "text/plain": [
       "<Figure size 432x288 with 2 Axes>"
      ]
     },
     "metadata": {
      "needs_background": "light"
     },
     "output_type": "display_data"
    }
   ],
   "source": [
    "# Knn neighbors\n",
    "knn_clf = KNeighborsClassifier()\n",
    "knn_clf.fit(X_train, y_train)\n",
    "predict_y = knn_clf.predict(X_test)\n",
    "\n",
    "y_pred_train = knn_clf.predict(X_train)\n",
    "\n",
    "print(f'Training accuracy: {accuracy_score(y_train,y_pred_train)}')\n",
    "print(f'Testing accuracy: {accuracy_score(y_test,predict_y)}')\n",
    "\n",
    "print(classification_report(y_test, predict_y, target_names=labels.label.unique()))\n",
    "ConfusionMatrixDisplay.from_predictions(y_test, predict_y)\n",
    "plt.show()"
   ]
  },
  {
   "cell_type": "code",
   "execution_count": 47,
   "id": "ebb4ae5a",
   "metadata": {},
   "outputs": [
    {
     "name": "stdout",
     "output_type": "stream",
     "text": [
      "Training accuracy: 0.4277701985751099\n",
      "Testing accuracy: 0.4175384615384615\n",
      "              precision    recall  f1-score   support\n",
      "\n",
      "       blues       0.36      0.27      0.31       318\n",
      "   classical       0.61      0.87      0.71       324\n",
      "     country       0.46      0.25      0.33       339\n",
      "       disco       0.31      0.32      0.31       334\n",
      "      hiphop       0.51      0.22      0.31       331\n",
      "        jazz       0.61      0.22      0.33       324\n",
      "       metal       0.32      0.87      0.46       311\n",
      "         pop       0.57      0.59      0.58       314\n",
      "      reggae       0.37      0.52      0.43       324\n",
      "        rock       0.25      0.08      0.13       331\n",
      "\n",
      "    accuracy                           0.42      3250\n",
      "   macro avg       0.44      0.42      0.39      3250\n",
      "weighted avg       0.44      0.42      0.39      3250\n",
      "\n"
     ]
    },
    {
     "data": {
      "image/png": "[encoded data removed]",
      "text/plain": [
       "<Figure size 432x288 with 2 Axes>"
      ]
     },
     "metadata": {
      "needs_background": "light"
     },
     "output_type": "display_data"
    }
   ],
   "source": [
    "# Gaussian NB\n",
    "nb_clf = GaussianNB()\n",
    "nb_clf.fit(X_train, y_train)\n",
    "predict_y = nb_clf.predict(X_test)\n",
    "\n",
    "y_pred_train = nb_clf.predict(X_train)\n",
    "\n",
    "print(f'Training accuracy: {accuracy_score(y_train,y_pred_train)}')\n",
    "print(f'Testing accuracy: {accuracy_score(y_test,predict_y)}')\n",
    "\n",
    "print(classification_report(y_test, predict_y, target_names=labels.label.unique()))\n",
    "ConfusionMatrixDisplay.from_predictions(y_test, predict_y)\n",
    "plt.show()"
   ]
  },
  {
   "cell_type": "markdown",
   "id": "868d1d12",
   "metadata": {},
   "source": [
    "### Performing PCA"
   ]
  },
  {
   "cell_type": "code",
   "execution_count": 49,
   "id": "42dbba41",
   "metadata": {},
   "outputs": [],
   "source": [
    "# PCA\n",
    "\n",
    "X_train_pca = X_train\n",
    "X_test_pca = X_test\n",
    "y_train_pca = y_train\n",
    "y_test_pca = y_test\n",
    "\n",
    "from sklearn.preprocessing import StandardScaler\n",
    "\n",
    "scaler = StandardScaler()\n",
    "# Fit on training set only.\n",
    "scaler.fit(X_train_pca)\n",
    "\n",
    "# Apply transform to both the training set and the test set.\n",
    "X_train_pca = scaler.transform(X_train_pca)\n",
    "X_test_pca = scaler.transform(X_test_pca)\n",
    "\n",
    "from sklearn.decomposition import PCA\n",
    "# Make an instance of the Model\n",
    "pca = PCA(.95)\n",
    "pca.fit(X_train_pca)\n",
    "\n",
    "X_train_pca = pca.transform(X_train_pca)\n",
    "X_test_pca = pca.transform(X_test_pca)"
   ]
  },
  {
   "cell_type": "markdown",
   "id": "69860e4c",
   "metadata": {},
   "source": [
    "#### Classification after PCA"
   ]
  },
  {
   "cell_type": "code",
   "execution_count": 50,
   "id": "51a6833c",
   "metadata": {},
   "outputs": [
    {
     "name": "stdout",
     "output_type": "stream",
     "text": [
      "              precision    recall  f1-score   support\n",
      "\n",
      "       blues       0.78      0.75      0.76       318\n",
      "   classical       0.83      0.95      0.89       324\n",
      "     country       0.67      0.68      0.68       339\n",
      "       disco       0.66      0.58      0.62       334\n",
      "      hiphop       0.82      0.73      0.77       331\n",
      "        jazz       0.78      0.77      0.77       324\n",
      "       metal       0.79      0.91      0.84       311\n",
      "         pop       0.73      0.81      0.77       314\n",
      "      reggae       0.71      0.74      0.73       324\n",
      "        rock       0.68      0.58      0.63       331\n",
      "\n",
      "    accuracy                           0.75      3250\n",
      "   macro avg       0.75      0.75      0.75      3250\n",
      "weighted avg       0.75      0.75      0.74      3250\n",
      "\n"
     ]
    },
    {
     "data": {
      "image/png": "[encoded data removed]",
      "text/plain": [
       "<Figure size 432x288 with 2 Axes>"
      ]
     },
     "metadata": {
      "needs_background": "light"
     },
     "output_type": "display_data"
    }
   ],
   "source": [
    "# Random Forest after PCA\n",
    "clf = RandomForestClassifier(max_depth=10, random_state=0)\n",
    "clf.fit(X_train_pca, y_train_pca)\n",
    "predict_y = clf.predict(X_test_pca)\n",
    "print(classification_report(y_test_pca, predict_y, target_names=labels.label.unique()))\n",
    "ConfusionMatrixDisplay.from_predictions(y_test_pca, predict_y)\n",
    "plt.show()"
   ]
  },
  {
   "cell_type": "code",
   "execution_count": 51,
   "id": "8d85deef",
   "metadata": {},
   "outputs": [
    {
     "name": "stdout",
     "output_type": "stream",
     "text": [
      "              precision    recall  f1-score   support\n",
      "\n",
      "       blues       0.88      0.87      0.88       318\n",
      "   classical       0.88      0.94      0.91       324\n",
      "     country       0.77      0.81      0.79       339\n",
      "       disco       0.74      0.83      0.78       334\n",
      "      hiphop       0.86      0.88      0.87       331\n",
      "        jazz       0.87      0.79      0.83       324\n",
      "       metal       0.95      0.92      0.94       311\n",
      "         pop       0.93      0.83      0.88       314\n",
      "      reggae       0.84      0.91      0.88       324\n",
      "        rock       0.84      0.74      0.79       331\n",
      "\n",
      "    accuracy                           0.85      3250\n",
      "   macro avg       0.86      0.85      0.85      3250\n",
      "weighted avg       0.85      0.85      0.85      3250\n",
      "\n"
     ]
    },
    {
     "data": {
      "image/png": "[encoded data removed]",
      "text/plain": [
       "<Figure size 432x288 with 2 Axes>"
      ]
     },
     "metadata": {
      "needs_background": "light"
     },
     "output_type": "display_data"
    }
   ],
   "source": [
    "# Knn neighbors after PCA\n",
    "knn_clf = KNeighborsClassifier()\n",
    "knn_clf.fit(X_train_pca, y_train_pca)\n",
    "predict_y = knn_clf.predict(X_test_pca)\n",
    "print(classification_report(y_test_pca, predict_y, target_names=labels.label.unique()))\n",
    "ConfusionMatrixDisplay.from_predictions(y_test_pca, predict_y)\n",
    "plt.show()"
   ]
  },
  {
   "cell_type": "code",
   "execution_count": 52,
   "id": "9a28878c",
   "metadata": {},
   "outputs": [
    {
     "name": "stdout",
     "output_type": "stream",
     "text": [
      "Training accuracy: 0.5942094891617402\n",
      "Testing accuracy: 0.5809230769230769\n",
      "              precision    recall  f1-score   support\n",
      "\n",
      "       blues       0.56      0.44      0.49       318\n",
      "   classical       0.81      0.81      0.81       324\n",
      "     country       0.60      0.51      0.55       339\n",
      "       disco       0.51      0.46      0.48       334\n",
      "      hiphop       0.68      0.57      0.62       331\n",
      "        jazz       0.62      0.50      0.55       324\n",
      "       metal       0.53      0.85      0.65       311\n",
      "         pop       0.72      0.72      0.72       314\n",
      "      reggae       0.57      0.59      0.58       324\n",
      "        rock       0.32      0.39      0.35       331\n",
      "\n",
      "    accuracy                           0.58      3250\n",
      "   macro avg       0.59      0.58      0.58      3250\n",
      "weighted avg       0.59      0.58      0.58      3250\n",
      "\n"
     ]
    },
    {
     "data": {
      "image/png": "[encoded data removed]",
      "text/plain": [
       "<Figure size 432x288 with 2 Axes>"
      ]
     },
     "metadata": {
      "needs_background": "light"
     },
     "output_type": "display_data"
    }
   ],
   "source": [
    "# Gaussian NB after PCA\n",
    "nb_clf = GaussianNB()\n",
    "nb_clf.fit(X_train_pca, y_train_pca)\n",
    "predict_y = nb_clf.predict(X_test_pca)\n",
    "\n",
    "y_pred_train = nb_clf.predict(X_train_pca)\n",
    "\n",
    "print(f'Training accuracy: {accuracy_score(y_train_pca,y_pred_train)}')\n",
    "print(f'Testing accuracy: {accuracy_score(y_test_pca,predict_y)}')\n",
    "\n",
    "print(classification_report(y_test_pca, predict_y, target_names=labels.label.unique()))\n",
    "ConfusionMatrixDisplay.from_predictions(y_test_pca, predict_y)\n",
    "plt.show()"
   ]
  },
  {
   "cell_type": "markdown",
   "id": "f44eef78",
   "metadata": {},
   "source": [
    "### XGBClassifier"
   ]
  },
  {
   "cell_type": "code",
   "execution_count": null,
   "id": "e9d7c0fc",
   "metadata": {},
   "outputs": [],
   "source": [
    "# XGBClassifier\n",
    "xgb_clf = XGBClassifier()\n",
    "xgb_clf.fit(X_train, y_train)\n",
    "predict_y = xgb_clf.predict(X_test)\n",
    "\n",
    "y_pred_train = xgb_clf.predict(X_train)\n",
    "\n",
    "print(f'Training accuracy: {accuracy_score(y_train,y_pred_train)}')\n",
    "print(f'Testing accuracy: {accuracy_score(y_test,predict_y)}')\n",
    "# print(accuracy(y_test, predict_y))\n",
    "print(classification_report(y_test, predict_y, target_names=labels.label.unique()))\n",
    "ConfusionMatrixDisplay.from_predictions(y_test, predict_y)\n",
    "plt.show()"
   ]
  },
  {
   "cell_type": "markdown",
   "id": "9f6a3279",
   "metadata": {},
   "source": [
    "##### Recursive feature elimination (RFE) on XGBClassifier"
   ]
  },
  {
   "cell_type": "code",
   "execution_count": null,
   "id": "a89b738b",
   "metadata": {},
   "outputs": [],
   "source": [
    "from sklearn.feature_selection import RFECV,mutual_info_regression\n",
    "estimator = XGBClassifier(eval_metric='merror')\n",
    "rfecv = RFECV(estimator, step=1, cv=5,scoring='accuracy',verbose=1)\n",
    "rfecv.fit(X_train, y_train)\n",
    "\n",
    "features_drop_array = list(np.where(rfecv.support_ == False)[0])\n",
    "X_train.columns[features_drop_array]"
   ]
  },
  {
   "cell_type": "markdown",
   "id": "cf422bc7",
   "metadata": {},
   "source": [
    "##### features dropped : "
   ]
  },
  {
   "cell_type": "markdown",
   "id": "d803d387",
   "metadata": {},
   "source": [
    "    ['zero_crossing_rate_var', 'mfcc11_var', 'mfcc13_var', 'mfcc14_var',\n",
    "       'mfcc15_var', 'mfcc16_var', 'mfcc17_var', 'mfcc18_var', 'mfcc19_mean',\n",
    "       'mfcc20_mean']"
   ]
  },
  {
   "cell_type": "code",
   "execution_count": null,
   "id": "d1c9b12b",
   "metadata": {},
   "outputs": [],
   "source": [
    "X_train.drop(X_train.columns[features_drop_array], axis=1, inplace=True)\n",
    "X_test.drop(X_test.columns[features_drop_array], axis=1, inplace=True)"
   ]
  },
  {
   "cell_type": "markdown",
   "id": "358abaf6",
   "metadata": {},
   "source": [
    "##### Running XGBClassifier after dropping features"
   ]
  },
  {
   "cell_type": "code",
   "execution_count": null,
   "id": "4c193860",
   "metadata": {},
   "outputs": [],
   "source": [
    "# aa\n",
    "# XGBClassifier\n",
    "xgb_clf = XGBClassifier(n_estimators=1000)\n",
    "xgb_clf.fit(X_train, y_train, eval_metric='merror')\n",
    "predict_y = xgb_clf.predict(X_test)\n",
    "# print(accuracy(y_test, predict_y))\n",
    "y_pred_train = xgb_clf.predict(X_train)\n",
    "\n",
    "print(f'Training accuracy: {accuracy_score(y_train,y_pred_train)}')\n",
    "print(f'Testing accuracy: {accuracy_score(y_test,predict_y)}')\n",
    "\n",
    "print(classification_report(y_test, predict_y, target_names=labels.label.unique()))\n",
    "ConfusionMatrixDisplay.from_predictions(y_test, predict_y)\n",
    "plt.show()"
   ]
  },
  {
   "cell_type": "markdown",
   "id": "9e39be93",
   "metadata": {},
   "source": [
    "##### Hypertuning the parametres of XGBClassifier "
   ]
  },
  {
   "cell_type": "code",
   "execution_count": null,
   "id": "af9fa33c",
   "metadata": {},
   "outputs": [],
   "source": [
    "#For hyperparameter tuning\n",
    "from hyperopt import STATUS_OK, Trials, fmin, hp, tpe\n",
    "\n",
    "space={\n",
    "    'n_estimators': hp.quniform('n_estimators', 0,3000,1),\n",
    "    'reg_lambda' : hp.quniform('reg_lambda', 0,500,1),\n",
    "    }\n",
    "\n",
    "def objective(space):\n",
    "    clf=XGBClassifier(\n",
    "                    n_estimators =int(space['n_estimators']),\n",
    "                    reg_lambda = int(space['reg_lambda']),\n",
    "                    )\n",
    "    \n",
    "    evaluation = [( X_train, y_train), ( X_test, y_test)]\n",
    "    \n",
    "    clf.fit(X_train, y_train,\n",
    "            eval_set=evaluation, eval_metric=\"auc\",\n",
    "            early_stopping_rounds=10,verbose=False)\n",
    "    \n",
    "\n",
    "    pred = clf.predict(X_test)\n",
    "    accuracy = accuracy_score(y_test, pred)\n",
    "    return {'loss': -accuracy, 'status': STATUS_OK }\n",
    "\n",
    "\n",
    "trials = Trials()\n",
    "best_hyperparams = fmin(fn = objective,\n",
    "                        space = space,\n",
    "                        algo = tpe.suggest,\n",
    "                        max_evals = 100,\n",
    "                        trials = trials)\n",
    "\n",
    "print(f\"best params: {best_hyperparams}\")"
   ]
  },
  {
   "cell_type": "markdown",
   "id": "2bc92039",
   "metadata": {},
   "source": [
    "##### Running XGBClassifier using best params : 'n_estimators': 1659.0, 'reg_lambda': 92.0"
   ]
  },
  {
   "cell_type": "code",
   "execution_count": null,
   "id": "a969fe08",
   "metadata": {},
   "outputs": [],
   "source": [
    "# aa\n",
    "# XGBClassifier\n",
    "xgb_clf = XGBClassifier(n_estimators=1659, reg_lambda=92.0)\n",
    "xgb_clf.fit(X_train, y_train, eval_metric='merror')\n",
    "predict_y = xgb_clf.predict(X_test)\n",
    "# print(accuracy(y_test, predict_y))\n",
    "y_pred_train = xgb_clf.predict(X_train)\n",
    "\n",
    "print(f'Training accuracy: {accuracy_score(y_train,y_pred_train)}')\n",
    "print(f'Testing accuracy: {accuracy_score(y_test,predict_y)}')\n",
    "\n",
    "print(classification_report(y_test, predict_y, target_names=labels.label.unique()))\n",
    "ConfusionMatrixDisplay.from_predictions(y_test, predict_y)\n",
    "plt.show()"
   ]
  },
  {
   "cell_type": "markdown",
   "id": "f85abb0c",
   "metadata": {},
   "source": [
    "#### Permutation Importance Feature Selection on knn_clf"
   ]
  },
  {
   "cell_type": "code",
   "execution_count": null,
   "id": "2a4411c4",
   "metadata": {},
   "outputs": [],
   "source": [
    "input_data = pd.read_csv(file_path_3)\n",
    "select_cols = input_data.iloc[:, 3:60]\n",
    "\n",
    "# Creating labels\n",
    "labels = input_data.iloc[:, [60]]\n",
    "le = preprocessing.LabelEncoder()\n",
    "le.fit(labels.label)\n",
    "labels['categorical_label'] = le.transform(labels.label)\n",
    "\n",
    "#Scaled data\n",
    "min_max_scaler = preprocessing.MinMaxScaler()\n",
    "np_scaled = min_max_scaler.fit_transform(select_cols)\n",
    "X_scaled = pd.DataFrame(np_scaled, columns = select_cols.columns)\n",
    "\n",
    "# Split into training and testing\n",
    "X_train, X_test, y_train, y_test = train_test_split(X_scaled, labels['categorical_label'], test_size=0.33)\n",
    "\n",
    "import eli5\n",
    "from eli5.sklearn import PermutationImportance\n",
    "\n",
    "seed = 12\n",
    "\n",
    "perm = PermutationImportance(knn_clf, random_state=seed).fit(X_train, y_train, n_iter=10)\n",
    "print(\"Feature Importances using Permutation Importance\")\n",
    "eli5.show_weights(perm, feature_names = X_train.columns.tolist())"
   ]
  },
  {
   "cell_type": "code",
   "execution_count": null,
   "id": "a5e37022",
   "metadata": {},
   "outputs": [],
   "source": [
    "# plot the permutation importances\n",
    "perm_indices = np.argsort(perm.feature_importances_)[::-1]\n",
    "perm_features = [X_train.columns.tolist()[xx] for xx in perm_indices]\n",
    "plt.figure(figsize=(14, 14))\n",
    "plt.title(\"Knn feature importance via permutation importance\")\n",
    "plt.barh(range(X_train.shape[1]), perm.feature_importances_[perm_indices])\n",
    "plt.yticks(range(X_train.shape[1]), perm_features)\n",
    "plt.ylim([X_train.shape[1], -1])\n",
    "plt.show()"
   ]
  },
  {
   "cell_type": "markdown",
   "id": "3f5bb576",
   "metadata": {},
   "source": [
    "### Trying few more classifiers"
   ]
  },
  {
   "cell_type": "code",
   "execution_count": null,
   "id": "345b2faf",
   "metadata": {},
   "outputs": [],
   "source": [
    "input_data = pd.read_csv(file_path_3)\n",
    "select_cols = input_data.iloc[:, 3:60]\n",
    "\n",
    "# Creating labels\n",
    "labels = input_data.iloc[:, [60]]\n",
    "le = preprocessing.LabelEncoder()\n",
    "le.fit(labels.label)\n",
    "labels['categorical_label'] = le.transform(labels.label)\n",
    "\n",
    "#Scaled data\n",
    "min_max_scaler = preprocessing.MinMaxScaler()\n",
    "np_scaled = min_max_scaler.fit_transform(select_cols)\n",
    "X_scaled = pd.DataFrame(np_scaled, columns = select_cols.columns)\n",
    "\n",
    "# Split into training and testing\n",
    "X_train, X_test, y_train, y_test = train_test_split(X_scaled, labels['categorical_label'], test_size=0.33)"
   ]
  },
  {
   "cell_type": "markdown",
   "id": "59b8f064",
   "metadata": {},
   "source": [
    "##### SVM"
   ]
  },
  {
   "cell_type": "code",
   "execution_count": null,
   "id": "137a0cb5",
   "metadata": {},
   "outputs": [],
   "source": [
    "# import support vector classifier \n",
    "\n",
    "from sklearn.svm import SVC  \n",
    "clf = SVC(kernel='linear') \n",
    "  \n",
    "clf.fit(X_train, y_train)\n",
    "predict_y = clf.predict(X_test)\n",
    "\n",
    "\n",
    "y_pred_train = clf.predict(X_train)\n",
    "\n",
    "print(f'Training accuracy: {accuracy_score(y_train,y_pred_train)}')\n",
    "print(f'Testing accuracy: {accuracy_score(y_test,predict_y)}')\n",
    "\n",
    "print(classification_report(y_test, predict_y, target_names=labels.label.unique()))\n",
    "ConfusionMatrixDisplay.from_predictions(y_test, predict_y)\n",
    "plt.show()"
   ]
  },
  {
   "cell_type": "markdown",
   "id": "ad1bed3e",
   "metadata": {},
   "source": [
    "##### MultinomialNB"
   ]
  },
  {
   "cell_type": "code",
   "execution_count": null,
   "id": "3929ae37",
   "metadata": {},
   "outputs": [],
   "source": [
    "from sklearn.naive_bayes import MultinomialNB\n",
    "clf = MultinomialNB()\n",
    "clf.fit(X_train, y_train)\n",
    "predict_y = clf.predict(X_test)\n",
    "\n",
    "\n",
    "y_pred_train = clf.predict(X_train)\n",
    "\n",
    "print(f'Training accuracy: {accuracy_score(y_train,y_pred_train)}')\n",
    "print(f'Testing accuracy: {accuracy_score(y_test,predict_y)}')\n",
    "\n",
    "print(classification_report(y_test, predict_y, target_names=labels.label.unique()))\n",
    "ConfusionMatrixDisplay.from_predictions(y_test, predict_y)\n",
    "plt.show()"
   ]
  },
  {
   "cell_type": "markdown",
   "id": "02a82701",
   "metadata": {},
   "source": [
    "##### LogisticRegression"
   ]
  },
  {
   "cell_type": "code",
   "execution_count": null,
   "id": "329d5aaf",
   "metadata": {},
   "outputs": [],
   "source": [
    "from sklearn.linear_model import LogisticRegression\n",
    "\n",
    "clf = LogisticRegression()\n",
    "clf.fit(X_train, y_train)\n",
    "predict_y = clf.predict(X_test)\n",
    "\n",
    "\n",
    "y_pred_train = clf.predict(X_train)\n",
    "\n",
    "print(f'Training accuracy: {accuracy_score(y_train,y_pred_train)}')\n",
    "print(f'Testing accuracy: {accuracy_score(y_test,predict_y)}')\n",
    "\n",
    "print(classification_report(y_test, predict_y, target_names=labels.label.unique()))\n",
    "ConfusionMatrixDisplay.from_predictions(y_test, predict_y)\n",
    "plt.show()"
   ]
  },
  {
   "cell_type": "markdown",
   "id": "01e559fe",
   "metadata": {},
   "source": [
    "##### LogisticRegression with L1 and L2"
   ]
  },
  {
   "cell_type": "code",
   "execution_count": null,
   "id": "465f0e1e",
   "metadata": {},
   "outputs": [],
   "source": [
    "from sklearn.linear_model import LogisticRegression\n",
    "\n",
    "C = [0.01, 0.10, 1.00]\n",
    "for c in C:\n",
    "    clf_l1_LR = LogisticRegression(C=c, penalty=\"l1\", tol=0.01, solver=\"saga\")\n",
    "    clf_l2_LR = LogisticRegression(C=c, penalty=\"l2\", tol=0.01, solver=\"saga\")\n",
    "    clf_l1_LR.fit(X_train, y_train)\n",
    "    clf_l2_LR.fit(X_train, y_train)\n",
    "    predict_y_l1 = clf_l1_LR.predict(X_test)\n",
    "    predict_y_l2 = clf_l2_LR.predict(X_test)\n",
    "    y_pred_train_l1 = clf_l1_LR.predict(X_train)\n",
    "    y_pred_train_l2 = clf_l2_LR.predict(X_train)\n",
    "    print('C = ', c)\n",
    "    print(f'Training accuracy L1: {accuracy_score(y_train,y_pred_train_l1)}')\n",
    "    print(f'Testing accuracy L1: {accuracy_score(y_test,predict_y_l1)}')\n",
    "    print(f'Training accuracy L2: {accuracy_score(y_train,y_pred_train_l2)}')\n",
    "    print(f'Testing accuracy L2: {accuracy_score(y_test,predict_y_l2)}')"
   ]
  },
  {
   "cell_type": "markdown",
   "id": "bf822db5",
   "metadata": {},
   "source": [
    "### RandomForestClassifier (with hypertuning)"
   ]
  },
  {
   "cell_type": "markdown",
   "id": "55345bce",
   "metadata": {},
   "source": [
    "##### RandomForestClassifier (max_depth=2)"
   ]
  },
  {
   "cell_type": "code",
   "execution_count": null,
   "id": "1e26eece",
   "metadata": {},
   "outputs": [],
   "source": [
    "# Random forest classifier\n",
    "clf = RandomForestClassifier(max_depth=2, random_state=0)\n",
    "clf.fit(X_train, y_train)\n",
    "predict_y = clf.predict(X_test)\n",
    "\n",
    "\n",
    "y_pred_train = clf.predict(X_train)\n",
    "\n",
    "print(f'Training accuracy: {accuracy_score(y_train,y_pred_train)}')\n",
    "print(f'Testing accuracy: {accuracy_score(y_test,predict_y)}')\n",
    "\n",
    "print(classification_report(y_test, predict_y, target_names=labels.label.unique()))\n",
    "ConfusionMatrixDisplay.from_predictions(y_test, predict_y)\n",
    "plt.show()"
   ]
  },
  {
   "cell_type": "markdown",
   "id": "fae7350a",
   "metadata": {},
   "source": [
    "##### RandomForestClassifier (without any parameters)"
   ]
  },
  {
   "cell_type": "code",
   "execution_count": null,
   "id": "429c926b",
   "metadata": {},
   "outputs": [],
   "source": [
    "# Random forest classifier\n",
    "clf = RandomForestClassifier()\n",
    "clf.fit(X_train, y_train)\n",
    "predict_y = clf.predict(X_test)\n",
    "\n",
    "\n",
    "y_pred_train = clf.predict(X_train)\n",
    "\n",
    "print(f'Training accuracy: {accuracy_score(y_train,y_pred_train)}')\n",
    "print(f'Testing accuracy: {accuracy_score(y_test,predict_y)}')\n",
    "\n",
    "print(classification_report(y_test, predict_y, target_names=labels.label.unique()))\n",
    "ConfusionMatrixDisplay.from_predictions(y_test, predict_y)\n",
    "plt.show()"
   ]
  },
  {
   "cell_type": "markdown",
   "id": "9599ca70",
   "metadata": {},
   "source": [
    "##### Hypertuning the parametres of RandomForestClassifier "
   ]
  },
  {
   "cell_type": "code",
   "execution_count": null,
   "id": "ce8c28a3",
   "metadata": {},
   "outputs": [],
   "source": [
    "# define parameter space\n",
    "\n",
    "space = {\n",
    "    \"n_estimators\": hp.choice(\"n_estimators\", [100, 200, 300, 400,500,600]),\n",
    "    \"max_depth\": hp.quniform(\"max_depth\", 1, 15,1),\n",
    "    \"criterion\": hp.choice(\"criterion\", [\"gini\", \"entropy\"]),\n",
    "}\n",
    "\n",
    "# define objective function\n",
    "from sklearn.model_selection import cross_val_score\n",
    "def hyperparameter_tuning(params):\n",
    "    clf = RandomForestClassifier(**params,n_jobs=-1)\n",
    "    acc = cross_val_score(clf, X_train, y_train,scoring=\"accuracy\").mean()\n",
    "    return {\"loss\": -acc, \"status\": STATUS_OK}\n",
    "\n",
    "# Fine tune the model\n",
    "trials = Trials()\n",
    "\n",
    "best = fmin(\n",
    "    fn=hyperparameter_tuning,\n",
    "    space = space, \n",
    "    algo=tpe.suggest, \n",
    "    max_evals=100, \n",
    "    trials=trials\n",
    ")\n",
    "\n",
    "print(\"Best: {}\".format(best))"
   ]
  },
  {
   "cell_type": "markdown",
   "id": "4168e2e2",
   "metadata": {},
   "source": [
    "##### RandomForestClassifier with the best parameters :  {'criterion': 1, 'max_depth': 14.0, 'n_estimators': 2}"
   ]
  },
  {
   "cell_type": "code",
   "execution_count": null,
   "id": "e8897f3d",
   "metadata": {},
   "outputs": [],
   "source": [
    "# Random forest classifier\n",
    "clf = RandomForestClassifier(n_estimators= 300, criterion= 'entropy', max_depth= 14, )\n",
    "clf.fit(X_train, y_train)\n",
    "predict_y = clf.predict(X_test)\n",
    "\n",
    "\n",
    "y_pred_train = clf.predict(X_train)\n",
    "\n",
    "print(f'Training accuracy: {accuracy_score(y_train,y_pred_train)}')\n",
    "print(f'Testing accuracy: {accuracy_score(y_test,predict_y)}')\n",
    "\n",
    "print(classification_report(y_test, predict_y, target_names=labels.label.unique()))\n",
    "ConfusionMatrixDisplay.from_predictions(y_test, predict_y)\n",
    "plt.show()"
   ]
  }
 ],
 "metadata": {
  "kernelspec": {
   "display_name": "Python 3",
   "language": "python",
   "name": "python3"
  },
  "language_info": {
   "codemirror_mode": {
    "name": "ipython",
    "version": 3
   },
   "file_extension": ".py",
   "mimetype": "text/x-python",
   "name": "python",
   "nbconvert_exporter": "python",
   "pygments_lexer": "ipython3",
   "version": "3.8.8"
  }
 },
 "nbformat": 4,
 "nbformat_minor": 5
}
